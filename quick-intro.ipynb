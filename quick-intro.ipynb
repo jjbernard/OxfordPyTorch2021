{
 "cells": [
  {
   "cell_type": "code",
   "execution_count": null,
   "id": "a5da7b1d-5392-4332-80e2-c20ff5242a61",
   "metadata": {},
   "outputs": [],
   "source": [
    "import torch"
   ]
  },
  {
   "cell_type": "markdown",
   "id": "31b0b5bc-41f0-4e30-b2a3-f83d3adacd7c",
   "metadata": {},
   "source": [
    "## Basic tensor operations"
   ]
  },
  {
   "cell_type": "code",
   "execution_count": null,
   "id": "7c1ac477-46ef-40a9-a840-3c4d98c0a0f2",
   "metadata": {},
   "outputs": [],
   "source": [
    "torch.tensor([[1,2], [3,4]])\n"
   ]
  },
  {
   "cell_type": "code",
   "execution_count": null,
   "id": "dfe1499a-3c9a-4a84-a4cf-f5bd4b51528f",
   "metadata": {},
   "outputs": [],
   "source": [
    "a = torch.tensor([[1,2],[3,4],[4,5]], dtype=torch.float)\n",
    "a"
   ]
  },
  {
   "cell_type": "code",
   "execution_count": null,
   "id": "ebe7f5b0-e5ab-4680-8a1b-7815d6e9c416",
   "metadata": {},
   "outputs": [],
   "source": [
    "a.dtype"
   ]
  },
  {
   "cell_type": "code",
   "execution_count": null,
   "id": "2811d0c2-d4cf-4a9c-8942-b3048617ccf1",
   "metadata": {},
   "outputs": [],
   "source": [
    "a.ndim"
   ]
  },
  {
   "cell_type": "code",
   "execution_count": null,
   "id": "4eb51c70-9909-4b9f-9883-6608cf496b3a",
   "metadata": {},
   "outputs": [],
   "source": [
    "b = torch.rand(3,2)\n",
    "b"
   ]
  },
  {
   "cell_type": "code",
   "execution_count": null,
   "id": "0b440098-b033-459c-9714-5571b77dccfe",
   "metadata": {},
   "outputs": [],
   "source": [
    "print(b[0,1])"
   ]
  },
  {
   "cell_type": "code",
   "execution_count": null,
   "id": "414606a1-1e8a-4a8d-898e-837960d304e7",
   "metadata": {},
   "outputs": [],
   "source": [
    "print(b[:,1])"
   ]
  },
  {
   "cell_type": "code",
   "execution_count": null,
   "id": "505c9fe5-c33d-4cbe-b2da-c33e2b0e58da",
   "metadata": {},
   "outputs": [],
   "source": [
    "e = torch.ones(2,3)\n",
    "f = torch.zeros(2,3)\n",
    "\n",
    "e, f"
   ]
  },
  {
   "cell_type": "code",
   "execution_count": null,
   "id": "d87d05aa-4cb6-431f-90cf-0543fc5e4c9d",
   "metadata": {},
   "outputs": [],
   "source": [
    "torch.rand_like(a)"
   ]
  },
  {
   "cell_type": "code",
   "execution_count": null,
   "id": "7fb92b0a-f7b3-45fe-8964-9e16bdba2478",
   "metadata": {},
   "outputs": [],
   "source": [
    "torch.ones_like(a)"
   ]
  },
  {
   "cell_type": "code",
   "execution_count": null,
   "id": "dead4524-b7d3-46a5-b8a8-9bcd025c61aa",
   "metadata": {},
   "outputs": [],
   "source": [
    "torch.zeros_like(a)"
   ]
  },
  {
   "cell_type": "code",
   "execution_count": null,
   "id": "af075bbe-2ec3-4025-9584-bb61a680ea04",
   "metadata": {},
   "outputs": [],
   "source": [
    "e.t()"
   ]
  },
  {
   "cell_type": "code",
   "execution_count": null,
   "id": "d0e54bd0-e570-4ba5-9995-1e7a813a9274",
   "metadata": {},
   "outputs": [],
   "source": [
    "e.sum()"
   ]
  },
  {
   "cell_type": "code",
   "execution_count": null,
   "id": "1e605900-2d45-4a9d-9f5f-b6091a647c13",
   "metadata": {},
   "outputs": [],
   "source": [
    "e.size()"
   ]
  },
  {
   "cell_type": "code",
   "execution_count": null,
   "id": "0ac32dc9-8d7a-447c-91f9-313a6c65fc02",
   "metadata": {},
   "outputs": [],
   "source": [
    "e.t().add(torch.rand_like(a))"
   ]
  },
  {
   "cell_type": "code",
   "execution_count": null,
   "id": "76f06e13-e38d-4180-9d82-fd27c3622126",
   "metadata": {},
   "outputs": [],
   "source": [
    "import numpy as np"
   ]
  },
  {
   "cell_type": "code",
   "execution_count": null,
   "id": "eeecc423-87d1-4069-b156-b7947c0efc3b",
   "metadata": {},
   "outputs": [],
   "source": [
    "c = b.numpy()"
   ]
  },
  {
   "cell_type": "code",
   "execution_count": null,
   "id": "e807423e-f818-4294-a3e0-d4f367f17119",
   "metadata": {},
   "outputs": [],
   "source": [
    "c"
   ]
  },
  {
   "cell_type": "code",
   "execution_count": null,
   "id": "0a7c792a-ed0d-424c-9d8a-fbe8ac412bb6",
   "metadata": {},
   "outputs": [],
   "source": [
    "type(c)"
   ]
  },
  {
   "cell_type": "code",
   "execution_count": null,
   "id": "12aaa900-e9b2-494a-9b23-a96ada14a752",
   "metadata": {},
   "outputs": [],
   "source": [
    "d = torch.from_numpy(c)"
   ]
  },
  {
   "cell_type": "code",
   "execution_count": null,
   "id": "a8b29a5b-ff05-4577-9396-dd196e4d37da",
   "metadata": {},
   "outputs": [],
   "source": [
    "type(d)"
   ]
  },
  {
   "cell_type": "code",
   "execution_count": null,
   "id": "ecddd873-c1ce-4835-ae7a-a8d02d7c5452",
   "metadata": {},
   "outputs": [],
   "source": [
    "g = torch.zeros(2,1)"
   ]
  },
  {
   "cell_type": "code",
   "execution_count": null,
   "id": "8d31dd6f-1385-4a10-8a41-5f4fb1c6c73f",
   "metadata": {},
   "outputs": [],
   "source": [
    "h = g.numpy()"
   ]
  },
  {
   "cell_type": "code",
   "execution_count": null,
   "id": "93ceb39d-bfb6-4519-9376-9d9a7149e380",
   "metadata": {},
   "outputs": [],
   "source": [
    "g.add_(4)"
   ]
  },
  {
   "cell_type": "code",
   "execution_count": null,
   "id": "af5766ae-6e32-40a8-9e37-34060e17d97b",
   "metadata": {},
   "outputs": [],
   "source": [
    "g"
   ]
  },
  {
   "cell_type": "code",
   "execution_count": null,
   "id": "756a3854-3465-402a-9ebe-b08a4d1717e6",
   "metadata": {},
   "outputs": [],
   "source": [
    "h"
   ]
  },
  {
   "cell_type": "code",
   "execution_count": null,
   "id": "16a7e018-8109-43a6-ae56-92edd80ceb94",
   "metadata": {},
   "outputs": [],
   "source": [
    "torch.cuda.is_available()"
   ]
  },
  {
   "cell_type": "markdown",
   "id": "d8679c00-8224-47fe-90aa-15e1b5c0af62",
   "metadata": {},
   "source": [
    "## Transforms"
   ]
  },
  {
   "cell_type": "code",
   "execution_count": null,
   "id": "3c36fb2d-8912-4480-af66-4b452e817330",
   "metadata": {},
   "outputs": [],
   "source": [
    "from torchvision import datasets, transforms\n",
    "from torch.utils.data import DataLoader"
   ]
  },
  {
   "cell_type": "code",
   "execution_count": null,
   "id": "ce8468ab-a99f-4c20-9f4a-26ba41951815",
   "metadata": {},
   "outputs": [],
   "source": [
    "trfs = transforms.Compose([transforms.ToTensor(), transforms.Normalize((0.485, 0.456, 0.406), (0.229, 0.224, 0.225))])"
   ]
  },
  {
   "cell_type": "code",
   "execution_count": null,
   "id": "69ff17db-ffee-4887-a2cf-f633558ce61b",
   "metadata": {},
   "outputs": [],
   "source": [
    "trfs"
   ]
  },
  {
   "cell_type": "code",
   "execution_count": null,
   "id": "7c6e652b-1b17-43ba-9d47-b0abbcaebee1",
   "metadata": {},
   "outputs": [],
   "source": [
    "train_ds = datasets.CIFAR10(root='./CIFAR10', train=True, download=True, transform=trfs)"
   ]
  },
  {
   "cell_type": "code",
   "execution_count": null,
   "id": "9be056c1-16f4-42a6-b4a5-463166bf71f8",
   "metadata": {},
   "outputs": [],
   "source": [
    "train_ds"
   ]
  },
  {
   "cell_type": "code",
   "execution_count": null,
   "id": "2c600e80-44f6-46ce-a85c-2fd67f78b4f1",
   "metadata": {},
   "outputs": [],
   "source": [
    "train_dl = DataLoader(train_ds, batch_size=4, shuffle=False, num_workers=12)"
   ]
  },
  {
   "cell_type": "code",
   "execution_count": null,
   "id": "06a67726-406c-4e9f-a7a5-de9339d6e04b",
   "metadata": {},
   "outputs": [],
   "source": [
    "a = next(iter(train_dl))"
   ]
  },
  {
   "cell_type": "code",
   "execution_count": null,
   "id": "c6e3579a-370a-43c1-9aec-fb93c220866d",
   "metadata": {},
   "outputs": [],
   "source": [
    "a[0], a[1]"
   ]
  },
  {
   "cell_type": "code",
   "execution_count": null,
   "id": "d8727198-b32b-49aa-8f53-55facd521ead",
   "metadata": {},
   "outputs": [],
   "source": [
    "a[0][0].size()"
   ]
  },
  {
   "cell_type": "code",
   "execution_count": null,
   "id": "2f4f3f07-c638-47a1-80f7-2ab1e4af1f6d",
   "metadata": {},
   "outputs": [],
   "source": [
    "a[1][0].size()"
   ]
  },
  {
   "cell_type": "code",
   "execution_count": null,
   "id": "52d95b59-b6af-48e6-ba97-d134b03ae06f",
   "metadata": {},
   "outputs": [],
   "source": [
    "img = a[0][2]"
   ]
  },
  {
   "cell_type": "code",
   "execution_count": null,
   "id": "24f1c97a-7d6f-41fc-88fe-69e71008d3b3",
   "metadata": {},
   "outputs": [],
   "source": [
    "img.size()"
   ]
  },
  {
   "cell_type": "code",
   "execution_count": null,
   "id": "5de507be-ebe0-49be-b59b-650f948ffc0a",
   "metadata": {},
   "outputs": [],
   "source": [
    "import matplotlib.pyplot as plt\n",
    "img = img.permute(1,2,0)\n",
    "plt.imshow(img)"
   ]
  },
  {
   "cell_type": "code",
   "execution_count": null,
   "id": "32e75e85-d27d-4a25-8d22-9f95760943d9",
   "metadata": {},
   "outputs": [],
   "source": [
    "trfs = transforms.Compose([transforms.ToTensor()])"
   ]
  },
  {
   "cell_type": "code",
   "execution_count": null,
   "id": "8a25ebf8-481d-48e2-8304-fbb501a6f987",
   "metadata": {},
   "outputs": [],
   "source": [
    "train_ds = datasets.CIFAR10(root='./CIFAR10', train=True, download=True, transform=trfs)\n",
    "train_dl = DataLoader(train_ds, batch_size=4, shuffle=False, num_workers=12)"
   ]
  },
  {
   "cell_type": "code",
   "execution_count": null,
   "id": "fd9c1d33-b160-4b01-909b-f6845e71ca43",
   "metadata": {},
   "outputs": [],
   "source": [
    "a = next(iter(train_dl))\n",
    "img = a[0][2]\n",
    "img = img.permute(1,2,0)\n",
    "plt.imshow(img)"
   ]
  },
  {
   "cell_type": "code",
   "execution_count": null,
   "id": "5afb9724-7a8f-4e2e-a2c9-3ed6f52ebb69",
   "metadata": {},
   "outputs": [],
   "source": []
  }
 ],
 "metadata": {
  "kernelspec": {
   "display_name": "Python 3",
   "language": "python",
   "name": "python3"
  },
  "language_info": {
   "codemirror_mode": {
    "name": "ipython",
    "version": 3
   },
   "file_extension": ".py",
   "mimetype": "text/x-python",
   "name": "python",
   "nbconvert_exporter": "python",
   "pygments_lexer": "ipython3",
   "version": "3.9.5"
  }
 },
 "nbformat": 4,
 "nbformat_minor": 5
}
