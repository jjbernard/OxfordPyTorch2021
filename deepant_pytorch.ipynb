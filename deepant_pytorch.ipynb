{
 "cells": [
  {
   "cell_type": "code",
   "execution_count": null,
   "id": "645c6786-1909-45fb-a74f-553959134af4",
   "metadata": {},
   "outputs": [],
   "source": [
    "import torch\n",
    "import torch.nn as nn\n",
    "import torch.optim as optim\n",
    "import numpy as np\n",
    "from typing import Tuple\n",
    "import math\n",
    "import matplotlib.pyplot as plt\n",
    "from torch.utils.data import DataLoader, Dataset\n",
    "from sklearn.preprocessing import MinMaxScaler"
   ]
  },
  {
   "cell_type": "code",
   "execution_count": null,
   "id": "0472b344-f8c8-4b4f-a9cb-16deff79951d",
   "metadata": {},
   "outputs": [],
   "source": [
    "from deepant_pytorch import create_sinusoidal_time_series, check_cuda, normalize_data\n",
    "from deepant_pytorch import split_data, calculate_size, SimpleTSDataset, DeepAnt"
   ]
  },
  {
   "cell_type": "code",
   "execution_count": null,
   "id": "76e81c23-39f6-46ef-be11-0b7b591bc287",
   "metadata": {},
   "outputs": [],
   "source": [
    "func = create_sinusoidal_time_series\n",
    "total_length = 100000\n",
    "dev = torch.device(check_cuda())\n",
    "series = func(total_length)\n",
    "\n",
    "window = 45\n",
    "dimensions = 1\n",
    "prediction_window = 1\n",
    "batch_size = 32\n",
    "learning_rate = 0.001\n",
    "epochs = 10\n",
    "test_train_split = 0.8"
   ]
  },
  {
   "cell_type": "code",
   "execution_count": null,
   "id": "0c99c23b-6fe8-4599-85ea-67c2a118bc25",
   "metadata": {},
   "outputs": [],
   "source": [
    "train, test = split_data(series, train_percent_size=test_train_split)"
   ]
  },
  {
   "cell_type": "code",
   "execution_count": null,
   "id": "3f904a2d-37e3-4a8f-add0-ee56307f2b28",
   "metadata": {},
   "outputs": [],
   "source": [
    "train"
   ]
  },
  {
   "cell_type": "code",
   "execution_count": null,
   "id": "d72096e2-0f5c-4bb7-9a00-7ec377c17a24",
   "metadata": {},
   "outputs": [],
   "source": [
    "train.size, test.size"
   ]
  },
  {
   "cell_type": "code",
   "execution_count": null,
   "id": "4c02842b-60a0-4676-b83c-2c3c45098fe2",
   "metadata": {},
   "outputs": [],
   "source": [
    "train_ds = SimpleTSDataset(data=train, sequence_size=window, prediction_size=prediction_window, device=dev)\n",
    "test_ds = SimpleTSDataset(data=test, sequence_size=window, prediction_size=prediction_window, device=dev)"
   ]
  },
  {
   "cell_type": "code",
   "execution_count": null,
   "id": "e42b46a7-b557-4321-b0a1-1d9b8b786678",
   "metadata": {},
   "outputs": [],
   "source": [
    "train.size, train_ds.max_range"
   ]
  },
  {
   "cell_type": "code",
   "execution_count": null,
   "id": "94eac389-d695-40c8-b865-87258b21d8a7",
   "metadata": {},
   "outputs": [],
   "source": [
    "test.size, test_ds.max_range"
   ]
  },
  {
   "cell_type": "code",
   "execution_count": null,
   "id": "9152d9ea-e354-47c6-a1bc-593c3a4e20b1",
   "metadata": {},
   "outputs": [],
   "source": [
    "SimpleTSDataset??"
   ]
  },
  {
   "cell_type": "code",
   "execution_count": null,
   "id": "234d926d-315f-4a7d-84ad-5980a16dd16b",
   "metadata": {},
   "outputs": [],
   "source": [
    "train_dl = DataLoader(train_ds, batch_size=batch_size, shuffle=False)\n",
    "test_dl = DataLoader(test_ds, batch_size=batch_size, shuffle=True)"
   ]
  },
  {
   "cell_type": "code",
   "execution_count": null,
   "id": "53e52b7c-0233-4a05-8133-04f16b67ba39",
   "metadata": {},
   "outputs": [],
   "source": [
    "model = DeepAnt(window=window, p_window=prediction_window, dimensions=dimensions)"
   ]
  },
  {
   "cell_type": "code",
   "execution_count": null,
   "id": "bc8da698-793f-4ecd-9c8e-5875607d5c77",
   "metadata": {},
   "outputs": [],
   "source": [
    "DeepAnt??"
   ]
  },
  {
   "cell_type": "code",
   "execution_count": null,
   "id": "d841eed3-067c-44bf-af28-b323c458eec6",
   "metadata": {},
   "outputs": [],
   "source": [
    "criterion = nn.L1Loss()"
   ]
  },
  {
   "cell_type": "code",
   "execution_count": null,
   "id": "15c9aadb-78e2-4a97-8343-3051cfa2e065",
   "metadata": {},
   "outputs": [],
   "source": [
    "optimizer = optim.Adam(model.parameters(), lr=learning_rate)"
   ]
  },
  {
   "cell_type": "code",
   "execution_count": null,
   "id": "0067b11e-26b2-425f-91b6-4bf5a582a9a9",
   "metadata": {},
   "outputs": [],
   "source": [
    "losses = list()"
   ]
  },
  {
   "cell_type": "code",
   "execution_count": null,
   "id": "6a60fb2c-2c5f-4589-a652-713ee6edb449",
   "metadata": {},
   "outputs": [],
   "source": [
    "for epoch in range(epochs):\n",
    "    count = 0\n",
    "    total_loss = 0\n",
    "    for x, y in train_dl:\n",
    "        model.train()\n",
    "        x = x.requires_grad_()\n",
    "\n",
    "        optimizer.zero_grad()\n",
    "        result = model(x)\n",
    "        loss = criterion(result, y)\n",
    "        loss.backward()\n",
    "        optimizer.step()\n",
    "        current_loss = loss.item()\n",
    "        total_loss += current_loss\n",
    "        count += 1\n",
    "\n",
    "    losses.append(total_loss / count)"
   ]
  },
  {
   "cell_type": "code",
   "execution_count": null,
   "id": "53837b11-45c0-443f-bda9-16904590b24f",
   "metadata": {},
   "outputs": [],
   "source": [
    "%matplotlib inline\n",
    "plt.plot(np.array(losses))\n",
    "plt.title(\"Training Loss\")\n",
    "plt.show()"
   ]
  },
  {
   "cell_type": "code",
   "execution_count": null,
   "id": "3349cdcc-8942-4037-bdae-8db424cd83a3",
   "metadata": {},
   "outputs": [],
   "source": [
    "torch.save(model.state_dict, './deepant.pth')"
   ]
  },
  {
   "cell_type": "code",
   "execution_count": null,
   "id": "18af1d57-dc65-47df-b588-8446a09b83ac",
   "metadata": {},
   "outputs": [],
   "source": [
    "results = []\n",
    "model.eval()\n",
    "for x, y in test_dl:\n",
    "    result = model(x)\n",
    "    results.append(result)"
   ]
  },
  {
   "cell_type": "code",
   "execution_count": null,
   "id": "739ae980-f541-4637-9454-0e6479dbfa7a",
   "metadata": {},
   "outputs": [],
   "source": [
    "reconstruct = []\n",
    "for data in results:\n",
    "    data = data[:, 0, :]\n",
    "    res = data.reshape(-1)\n",
    "    res = res.detach().numpy()\n",
    "    for r in res:\n",
    "        reconstruct.append(r)\n",
    "\n",
    "plt.plot(np.array(reconstruct))\n",
    "plt.title(\"Output on test data\")\n",
    "plt.show()"
   ]
  },
  {
   "cell_type": "code",
   "execution_count": null,
   "id": "1b66b586-ff78-466d-893f-77eb2ab03a32",
   "metadata": {},
   "outputs": [],
   "source": []
  }
 ],
 "metadata": {
  "kernelspec": {
   "display_name": "Python 3",
   "language": "python",
   "name": "python3"
  },
  "language_info": {
   "codemirror_mode": {
    "name": "ipython",
    "version": 3
   },
   "file_extension": ".py",
   "mimetype": "text/x-python",
   "name": "python",
   "nbconvert_exporter": "python",
   "pygments_lexer": "ipython3",
   "version": "3.9.5"
  }
 },
 "nbformat": 4,
 "nbformat_minor": 5
}
