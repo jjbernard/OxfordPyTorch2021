{
 "cells": [
  {
   "cell_type": "code",
   "execution_count": null,
   "id": "77321694-4d2a-4784-8dad-7a97b62d4a16",
   "metadata": {},
   "outputs": [],
   "source": [
    "import torch\n",
    "from torch import nn\n",
    "from torch import optim\n",
    "from torch.utils.data import DataLoader\n",
    "import deepant_pytorch as dp\n",
    "from ignite.engine import Engine, Events, create_supervised_evaluator\n",
    "from ignite.metrics import MeanAbsoluteError, MeanSquaredError, Loss\n",
    "from ignite.handlers import ModelCheckpoint, global_step_from_engine\n",
    "from ignite.contrib.handlers import ProgressBar"
   ]
  },
  {
   "cell_type": "code",
   "execution_count": null,
   "id": "0dca8ff7-5cbc-4939-abb9-2a29b8a7d241",
   "metadata": {},
   "outputs": [],
   "source": [
    "func = dp.create_sinusoidal_time_series\n",
    "total_length = 100000\n",
    "dev = torch.device(dp.check_cuda())\n",
    "series = func(total_length)"
   ]
  },
  {
   "cell_type": "code",
   "execution_count": null,
   "id": "027221fa-accf-4b39-83c6-92c0ab56a8d4",
   "metadata": {},
   "outputs": [],
   "source": [
    "window = 45\n",
    "dimensions = 1\n",
    "prediction_window = 1\n",
    "batch_size = 32\n",
    "learning_rate = 0.001\n",
    "epochs = 10\n",
    "test_train_split = 0.8"
   ]
  },
  {
   "cell_type": "code",
   "execution_count": null,
   "id": "f5f29cb4-2029-4b01-904b-ecf71745e593",
   "metadata": {},
   "outputs": [],
   "source": [
    "train, test = dp.split_data(series, train_percent_size=test_train_split)\n",
    "\n",
    "train_ds = dp.SimpleTSDataset(data=train, sequence_size=window, prediction_size=prediction_window)\n",
    "test_ds = dp.SimpleTSDataset(data=test, sequence_size=window, prediction_size=prediction_window)\n",
    "\n",
    "train_dl = DataLoader(train_ds, batch_size=batch_size, shuffle=False)\n",
    "test_dl = DataLoader(test_ds, batch_size=batch_size, shuffle=True)\n",
    "\n",
    "model = dp.DeepAnt(window=window, p_window=prediction_window, dimensions=dimensions)\n",
    "criterion = nn.L1Loss()\n",
    "\n",
    "optimizer = optim.Adam(model.parameters(), lr=learning_rate)"
   ]
  },
  {
   "cell_type": "code",
   "execution_count": null,
   "id": "d43435e2-bf4e-40d5-915b-ba20f77295aa",
   "metadata": {},
   "outputs": [],
   "source": [
    "def train_step(engine, batch):\n",
    "    x, y = batch\n",
    "    x = x.to(dev)\n",
    "    y = y.to(dev)\n",
    "\n",
    "    model.train()\n",
    "    x = x.requires_grad_()\n",
    "    result = model(x)\n",
    "    loss = criterion(result, y)\n",
    "\n",
    "    optimizer.zero_grad()\n",
    "    loss.backward()\n",
    "    optimizer.step()\n",
    "\n",
    "    return loss"
   ]
  },
  {
   "cell_type": "code",
   "execution_count": null,
   "id": "d17b6854-d5a6-4349-b4c2-d97acb013757",
   "metadata": {},
   "outputs": [],
   "source": [
    "def test_step(engine, batch):\n",
    "    x, y = batch\n",
    "\n",
    "    model.eval()\n",
    "    with torch.no_grad():\n",
    "        x = x.to(dev)\n",
    "        y = y.to(dev)\n",
    "\n",
    "        result = model(x)\n",
    "\n",
    "        return result, y"
   ]
  },
  {
   "cell_type": "code",
   "execution_count": null,
   "id": "8b155a1c-b844-444e-a581-faf0711137a0",
   "metadata": {},
   "outputs": [],
   "source": [
    "trainer = Engine(train_step)\n",
    "tester = Engine(test_step)"
   ]
  },
  {
   "cell_type": "code",
   "execution_count": null,
   "id": "1edd375d-9830-477c-9d81-7c6d7eb54c7c",
   "metadata": {},
   "outputs": [],
   "source": [
    "@trainer.on(Events.STARTED)\n",
    "def start_message():\n",
    "    print(\"Training now!\")"
   ]
  },
  {
   "cell_type": "code",
   "execution_count": null,
   "id": "9937bcee-80a8-4fbe-9ca3-6afc035d390f",
   "metadata": {},
   "outputs": [],
   "source": [
    "@trainer.on(Events.COMPLETED)\n",
    "def done_message():\n",
    "    print(\"Training done!\")"
   ]
  },
  {
   "cell_type": "code",
   "execution_count": null,
   "id": "e99c4225-905e-4ccc-9539-8b441a3bcb0e",
   "metadata": {},
   "outputs": [],
   "source": [
    "@trainer.on(Events.EPOCH_COMPLETED)\n",
    "def run_test():\n",
    "    tester.run(test_dl)"
   ]
  },
  {
   "cell_type": "code",
   "execution_count": null,
   "id": "c9565d17-6336-44d0-b404-836ec5e18ae0",
   "metadata": {},
   "outputs": [],
   "source": [
    "test_metrics = {\"MAE\": MeanAbsoluteError(), \"MSE\": MeanSquaredError(), \"Loss\": Loss(criterion)}"
   ]
  },
  {
   "cell_type": "code",
   "execution_count": null,
   "id": "5b99e712-4d09-4995-8076-37248b624753",
   "metadata": {},
   "outputs": [],
   "source": [
    "for name, metric in test_metrics.items():\n",
    "    metric.attach(tester, name)"
   ]
  },
  {
   "cell_type": "code",
   "execution_count": null,
   "id": "0f8db089-c471-4cee-886e-3928a761cac5",
   "metadata": {},
   "outputs": [],
   "source": [
    "train_evaluator = create_supervised_evaluator(model, metrics=test_metrics, device=dev)"
   ]
  },
  {
   "cell_type": "code",
   "execution_count": null,
   "id": "495c1465-a436-4c58-bf8b-c872effc1b3f",
   "metadata": {},
   "outputs": [],
   "source": [
    "@trainer.on(Events.EPOCH_COMPLETED)\n",
    "def run_validation():\n",
    "    train_evaluator.run(train_dl)"
   ]
  },
  {
   "cell_type": "code",
   "execution_count": null,
   "id": "090b76e1-1f7f-4cc7-950a-e67dee77a54b",
   "metadata": {},
   "outputs": [],
   "source": [
    "@train_evaluator.on(Events.COMPLETED)\n",
    "def show_train_results():\n",
    "    metrics = train_evaluator.state.metrics\n",
    "    mae = metrics[\"MAE\"]\n",
    "    mse = metrics[\"MSE\"]\n",
    "    loss = metrics[\"Loss\"]\n",
    "    print(f\"Training results for Epoch: {trainer.state.epoch} - MAE: {mae:.3f} - MSE: {mse:.3f} - Loss: {loss:.3f}\")\n",
    "\n",
    "\n",
    "@tester.on(Events.COMPLETED)\n",
    "def show_test_results():\n",
    "    metrics = tester.state.metrics\n",
    "    mae = metrics[\"MAE\"]\n",
    "    mse = metrics[\"MSE\"]\n",
    "    loss = metrics[\"Loss\"]\n",
    "\n",
    "    print(f\"Test results for Epoch {trainer.state.epoch} - MAE: {mae:.3f} - MSE: {mse:.3f} - Loss: {loss:.3f}\")"
   ]
  },
  {
   "cell_type": "code",
   "execution_count": null,
   "id": "66bd1da6-2d2f-412d-83d1-f3e2ac0ba422",
   "metadata": {},
   "outputs": [],
   "source": [
    "# Let's define the anomaly score function\n",
    "def anomaly_score(engine):\n",
    "    return engine.state.metrics[\"MAE\"]"
   ]
  },
  {
   "cell_type": "code",
   "execution_count": null,
   "id": "544f661e-6063-45f0-a9f0-9f8642a539ce",
   "metadata": {},
   "outputs": [],
   "source": [
    "# Checkpoint to store n_saved best models wrt score function\n",
    "checkpoint = ModelCheckpoint(\n",
    "    \"deepant-model-w-ignite\",\n",
    "    require_empty=False,\n",
    "    n_saved=2,\n",
    "    filename_prefix=\"best\",\n",
    "    score_function=anomaly_score,\n",
    "    score_name=\"mae\",\n",
    "    global_step_transform=global_step_from_engine(trainer),\n",
    ")"
   ]
  },
  {
   "cell_type": "code",
   "execution_count": null,
   "id": "a723a999-d94e-44b8-b340-70ee11431bfc",
   "metadata": {},
   "outputs": [],
   "source": [
    "tester.add_event_handler(Events.COMPLETED, checkpoint, {\"model\": model})"
   ]
  },
  {
   "cell_type": "code",
   "execution_count": null,
   "id": "388f2efb-99d4-4914-bbc7-59062738ab00",
   "metadata": {},
   "outputs": [],
   "source": [
    "ProgressBar().attach(trainer, output_transform=lambda x: {'batch loss': x})"
   ]
  },
  {
   "cell_type": "code",
   "execution_count": null,
   "id": "09e38e52-425c-4866-831b-6adc92c827a0",
   "metadata": {},
   "outputs": [],
   "source": [
    "trainer.run(train_dl, max_epochs=epochs)"
   ]
  },
  {
   "cell_type": "code",
   "execution_count": null,
   "id": "df85030a-b1f8-43ae-8caa-45a09ed64b8d",
   "metadata": {},
   "outputs": [],
   "source": []
  }
 ],
 "metadata": {
  "kernelspec": {
   "display_name": "Python 3",
   "language": "python",
   "name": "python3"
  },
  "language_info": {
   "codemirror_mode": {
    "name": "ipython",
    "version": 3
   },
   "file_extension": ".py",
   "mimetype": "text/x-python",
   "name": "python",
   "nbconvert_exporter": "python",
   "pygments_lexer": "ipython3",
   "version": "3.9.5"
  }
 },
 "nbformat": 4,
 "nbformat_minor": 5
}
